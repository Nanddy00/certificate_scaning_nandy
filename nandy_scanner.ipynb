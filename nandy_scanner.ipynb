{
 "cells": [
  {
   "cell_type": "code",
   "execution_count": 11,
   "id": "e4eae84d",
   "metadata": {},
   "outputs": [
    {
     "name": "stdout",
     "output_type": "stream",
     "text": [
      "Requirement already satisfied: opencv-python in c:\\users\\lenovo\\anaconda3\\lib\\site-packages (4.9.0.80)Note: you may need to restart the kernel to use updated packages.\n",
      "\n",
      "Requirement already satisfied: numpy>=1.21.2 in c:\\users\\lenovo\\anaconda3\\lib\\site-packages (from opencv-python) (1.24.3)\n"
     ]
    }
   ],
   "source": [
    "pip install opencv-python --upgrade\n"
   ]
  },
  {
   "cell_type": "code",
   "execution_count": 25,
   "id": "44c0ac89",
   "metadata": {},
   "outputs": [],
   "source": [
    "import cv2\n",
    "import pytesseract\n",
    "from openpyxl import load_workbook, Workbook\n",
    "import re\n",
    "\n",
    "# Load Tesseract and set configurations\n",
    "pytesseract.pytesseract.tesseract_cmd = r\"C:\\\\Program Files\\\\Tesseract-OCR\\\\tesseract.exe\"\n",
    "custom_config = r'--oem 3 --psm 6'\n",
    "\n",
    "# Function to extract text from image using pytesseract\n",
    "def extract_text_from_image(image):\n",
    "    gray = cv2.cvtColor(image, cv2.COLOR_BGR2GRAY)\n",
    "    text = pytesseract.image_to_string(gray, config=custom_config)\n",
    "    return text\n",
    "\n",
    "# Function to extract certificate details from text\n",
    "def extract_certificate_details(text):\n",
    "    name_pattern = re.compile(r'Name (.+?)\\n')\n",
    "    name_match = name_pattern.search(text)\n",
    "    name_cert = name_match.group(1) if name_match else None\n",
    "\n",
    "    ins_pattern = re.compile(r'Institution (.+?)\\n')\n",
    "    ins_match = ins_pattern.search(text)\n",
    "    ins_cert = ins_match.group(1) if ins_match else None\n",
    "\n",
    "    unit_pattern = re.compile(r'by (.+?)\\n')\n",
    "    unit_match = unit_pattern.search(text)\n",
    "    unit_cert = unit_match.group(1) if unit_match else None\n",
    "\n",
    "    pl_pattern = re.compile(r'Place : (\\w+)')\n",
    "    pl_match = pl_pattern.search(text)\n",
    "    pl_cert = pl_match.group(1) if pl_match else None\n",
    "    \n",
    "    dt_pattern = re.compile(r'Date: (\\d{1,2} \\w+ \\d{4})')\n",
    "    dt_match = dt_pattern.search(text)\n",
    "    dt_cert = dt_match.group(1) if dt_match else None\n",
    "\n",
    "    rank_pattern = re.compile(r'Rank, (.+?)\\n')\n",
    "    rank_match = rank_pattern.search(text)\n",
    "    rank_cert = rank_match.group(1) if rank_match else None\n",
    "\n",
    "    return name_cert, ins_cert, unit_cert, pl_cert, dt_cert, rank_cert\n",
    "\n",
    "# Load the existing workbook or create a new one if it doesn't exist\n",
    "try:\n",
    "    wb = load_workbook('Nanddy0031.xlsx')\n",
    "except FileNotFoundError:\n",
    "    wb = Workbook()\n",
    "    ws = wb.active\n",
    "    ws.append(['Name', 'Institution', 'By', 'Place', 'Date', 'Rank'])\n",
    "\n",
    "ws = wb.active\n",
    "\n",
    "import cv2\n",
    "import urllib.request\n",
    "import numpy as np\n",
    "\n",
    "# Replace 'your_ip_address:port' with your Android device's IP address and port\n",
    "# Initialize webcam\n",
    "cap = cv2.VideoCapture('http://192.168.36.229:8080/video')\n",
    "\n",
    "while True:\n",
    "    ret, frame = cap.read()\n",
    "    if not ret:\n",
    "        break\n",
    "\n",
    "    cv2.imshow('Webcam', frame)\n",
    "    if cv2.waitKey(1) & 0xFF == ord('q'):\n",
    "        break\n",
    "\n",
    "cap.release()\n",
    "cv2.destroyAllWindows()\n",
    "\n",
    "\n",
    "text = extract_text_from_image(frame)\n",
    "name_cert, ins_cert, unit_cert, pl_cert, dt_cert, rank_cert = extract_certificate_details(text)\n",
    "ws.append([name_cert, ins_cert, unit_cert, pl_cert, dt_cert, rank_cert])\n",
    "\n",
    "# Save the workbook\n",
    "wb.save('Nanddy0031.xlsx')\n",
    "\n",
    "# Release the webcam and close OpenCV windows\n",
    "cap.release()\n",
    "cv2.destroyAllWindows()"
   ]
  },
  {
   "cell_type": "code",
   "execution_count": null,
   "id": "ae6dc96d",
   "metadata": {},
   "outputs": [],
   "source": []
  },
  {
   "cell_type": "code",
   "execution_count": null,
   "id": "70f5dd42",
   "metadata": {},
   "outputs": [],
   "source": [
    "\n",
    "\n"
   ]
  }
 ],
 "metadata": {
  "kernelspec": {
   "display_name": "Python 3 (ipykernel)",
   "language": "python",
   "name": "python3"
  },
  "language_info": {
   "codemirror_mode": {
    "name": "ipython",
    "version": 3
   },
   "file_extension": ".py",
   "mimetype": "text/x-python",
   "name": "python",
   "nbconvert_exporter": "python",
   "pygments_lexer": "ipython3",
   "version": "3.11.5"
  }
 },
 "nbformat": 4,
 "nbformat_minor": 5
}
